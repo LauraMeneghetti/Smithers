{
 "cells": [
  {
   "cell_type": "markdown",
   "metadata": {},
   "source": [
    "### CODE FROM\n",
    "https://github.com/smortezavi/Randomized_SVD_GPU/blob/master/pytorch_randomized_svd.ipynb"
   ]
  },
  {
   "cell_type": "code",
   "execution_count": 1,
   "metadata": {
    "collapsed": true
   },
   "outputs": [],
   "source": [
    "import numpy as np\n",
    "import timeit\n",
    "import pandas as pd\n",
    "from sklearn import decomposition\n",
    "#import fbpca\n",
    "import torch\n",
    "from scipy import linalg"
   ]
  },
  {
   "cell_type": "code",
   "execution_count": 2,
   "metadata": {},
   "outputs": [],
   "source": [
    "if torch.cuda.is_available():\n",
    "    device = torch.device('cuda')\n",
    "else:\n",
    "    device = torch.device('cpu')"
   ]
  },
  {
   "cell_type": "code",
   "execution_count": null,
   "metadata": {
    "collapsed": true
   },
   "outputs": [],
   "source": [
    "def simple_randomized_svd(M, k=10):\n",
    "    m, n = M.shape\n",
    "    transpose = False\n",
    "    if m < n:\n",
    "        transpose = True\n",
    "        M = M.T\n",
    "    rand_matrix = np.random.normal(size=(M.shape[1], k))  # short side by k\n",
    "    Q, _ = np.linalg.qr(M @ rand_matrix, mode='reduced')  # long side by k\n",
    "    smaller_matrix = Q.T @ M                              # k by short side\n",
    "    U_hat, s, V = np.linalg.svd(smaller_matrix, full_matrices=False)\n",
    "    U = Q @ U_hat\n",
    "    \n",
    "    if transpose:\n",
    "        return V.T, s.T, U.T\n",
    "    else:\n",
    "        return U, s, V"
   ]
  },
  {
   "cell_type": "code",
   "execution_count": null,
   "metadata": {},
   "outputs": [],
   "source": [
    "def simple_randomized_torch_svd(M, k=10):\n",
    "    B = torch.tensor(M).cuda(0)\n",
    "    m, n = B.size()\n",
    "    transpose = False\n",
    "    if m < n:\n",
    "        transpose = True\n",
    "        B = B.transpose(0, 1).cuda(0)\n",
    "        m, n = B.size()\n",
    "    rand_matrix = torch.rand((n,k), dtype=torch.double).cuda(0)  # short side by k\n",
    "    Q, _ = torch.qr(B @ rand_matrix)                              # long side by k\n",
    "    Q.cuda(0)\n",
    "    smaller_matrix = (Q.transpose(0, 1) @ B).cuda(0)             # k by short side\n",
    "    U_hat, s, V = torch.svd(smaller_matrix,False)\n",
    "    U_hat.cuda(0)\n",
    "    U = (Q @ U_hat)\n",
    "    \n",
    "    if transpose:\n",
    "        return V.transpose(0, 1), s, U.transpose(0, 1)\n",
    "    else:\n",
    "        return U, s, V"
   ]
  },
  {
   "cell_type": "code",
   "execution_count": 1,
   "metadata": {
    "collapsed": true
   },
   "outputs": [
    {
     "ename": "NameError",
     "evalue": "name 'device' is not defined",
     "output_type": "error",
     "traceback": [
      "\u001b[0;31m---------------------------------------------------------------------------\u001b[0m",
      "\u001b[0;31mNameError\u001b[0m                                 Traceback (most recent call last)",
      "\u001b[1;32m/u/s/szanin/ZaninStefanoSmithers/smithers/ml/pytorch_randomized_svd.ipynb Cella 6\u001b[0m in \u001b[0;36m<cell line: 3>\u001b[0;34m()\u001b[0m\n\u001b[1;32m      <a href='vscode-notebook-cell://ssh-remote%2Blovelace/u/s/szanin/ZaninStefanoSmithers/smithers/ml/pytorch_randomized_svd.ipynb#W5sdnNjb2RlLXJlbW90ZQ%3D%3D?line=0'>1</a>\u001b[0m \u001b[39m# computes an orthonormal matrix whose range approximates the range of A\u001b[39;00m\n\u001b[1;32m      <a href='vscode-notebook-cell://ssh-remote%2Blovelace/u/s/szanin/ZaninStefanoSmithers/smithers/ml/pytorch_randomized_svd.ipynb#W5sdnNjb2RlLXJlbW90ZQ%3D%3D?line=1'>2</a>\u001b[0m \u001b[39m# power_iteration_normalizer can be safe_sparse_dot (fast but unstable), LU (imbetween), or QR (slow but most accurate)\u001b[39;00m\n\u001b[0;32m----> <a href='vscode-notebook-cell://ssh-remote%2Blovelace/u/s/szanin/ZaninStefanoSmithers/smithers/ml/pytorch_randomized_svd.ipynb#W5sdnNjb2RlLXJlbW90ZQ%3D%3D?line=2'>3</a>\u001b[0m \u001b[39mdef\u001b[39;00m \u001b[39mrandomized_range_finder\u001b[39m(A, size, n_iter\u001b[39m=\u001b[39m\u001b[39m5\u001b[39m, device \u001b[39m=\u001b[39m device):\n\u001b[1;32m      <a href='vscode-notebook-cell://ssh-remote%2Blovelace/u/s/szanin/ZaninStefanoSmithers/smithers/ml/pytorch_randomized_svd.ipynb#W5sdnNjb2RlLXJlbW90ZQ%3D%3D?line=3'>4</a>\u001b[0m     A \u001b[39m=\u001b[39m A\u001b[39m.\u001b[39mto(device)\n\u001b[1;32m      <a href='vscode-notebook-cell://ssh-remote%2Blovelace/u/s/szanin/ZaninStefanoSmithers/smithers/ml/pytorch_randomized_svd.ipynb#W5sdnNjb2RlLXJlbW90ZQ%3D%3D?line=4'>5</a>\u001b[0m     Q \u001b[39m=\u001b[39m torch\u001b[39m.\u001b[39mtensor(np\u001b[39m.\u001b[39mrandom\u001b[39m.\u001b[39mnormal(size\u001b[39m=\u001b[39m(A\u001b[39m.\u001b[39mshape[\u001b[39m1\u001b[39m], size)))\u001b[39m.\u001b[39mto(device)\n",
      "\u001b[0;31mNameError\u001b[0m: name 'device' is not defined"
     ]
    }
   ],
   "source": [
    "# computes an orthonormal matrix whose range approximates the range of A\n",
    "# power_iteration_normalizer can be safe_sparse_dot (fast but unstable), LU (imbetween), or QR (slow but most accurate)\n",
    "def randomized_range_finder(A, size, n_iter=5, device = device):\n",
    "    A = A.to(device)\n",
    "    Q = torch.tensor(np.random.normal(size=(A.shape[1], size))).to(device)\n",
    "    \n",
    "    for i in range(n_iter):\n",
    "        P,L, _ = torch.linalg.lu(A @ Q)\n",
    "        Q = P @ L\n",
    "        P, L, _ = torch.linalg.lu(A.T @ Q)\n",
    "        Q = P @ L\n",
    "        \n",
    "    Q, _ = linalg.qr(A @ Q, mode='economic')\n",
    "    return Q"
   ]
  },
  {
   "cell_type": "code",
   "execution_count": 7,
   "metadata": {},
   "outputs": [],
   "source": [
    "def randomized_svd(M, n_components, n_oversamples=10, n_iter=4):\n",
    "    n_random = n_components + n_oversamples\n",
    "    \n",
    "    M = torch.tensor(M)#.to(device)\n",
    "    Q = torch.tensor(randomized_range_finder(M, n_random, n_iter))#.to(device)\n",
    "    # project M to the (k + p) dimensional space using the basis vectors\n",
    "    M = torch.tensor(M)#.to(device)\n",
    "    B = Q.transpose(0, 1) @ M\n",
    "    # compute the SVD on the thin matrix: (k + p) wide\n",
    "    Uhat, s, V = torch.linalg.svd(B, full_matrices=False)\n",
    "    Uhat, s, V = Uhat#.to(device), s#.to(device), V#.to(device)\n",
    "    Uhat = torch.tensor(Uhat).cuda(0)\n",
    "    del B\n",
    "    U = Q @ Uhat\n",
    "    \n",
    "    return U[:, :n_components], s[:n_components], V[:n_components, :]"
   ]
  },
  {
   "cell_type": "code",
   "execution_count": null,
   "metadata": {
    "collapsed": true
   },
   "outputs": [],
   "source": [
    "def randomized_svd_original(M, n_components, n_oversamples=10, n_iter=4):\n",
    "    \n",
    "    n_random = n_components + n_oversamples\n",
    "    \n",
    "    Q = randomized_range_finder(M, n_random, n_iter)\n",
    "    # project M to the (k + p) dimensional space using the basis vectors\n",
    "    B = Q.T @ M\n",
    "    # compute the SVD on the thin matrix: (k + p) wide\n",
    "    Uhat, s, V = torch.linalg.svd(B, full_matrices=False)\n",
    "    del B\n",
    "    U = Q @ Uhat\n",
    "    \n",
    "    return U[:, :n_components], s[:n_components], V[:n_components, :]"
   ]
  },
  {
   "cell_type": "code",
   "execution_count": 8,
   "metadata": {},
   "outputs": [
    {
     "name": "stderr",
     "output_type": "stream",
     "text": [
      "/tmp/ipykernel_3787052/4071521345.py:4: UserWarning: To copy construct from a tensor, it is recommended to use sourceTensor.clone().detach() or sourceTensor.clone().detach().requires_grad_(True), rather than torch.tensor(sourceTensor).\n",
      "  M = torch.tensor(M)#.to(device)\n"
     ]
    },
    {
     "ename": "TypeError",
     "evalue": "can't convert cuda:0 device type tensor to numpy. Use Tensor.cpu() to copy the tensor to host memory first.",
     "output_type": "error",
     "traceback": [
      "\u001b[0;31m---------------------------------------------------------------------------\u001b[0m",
      "\u001b[0;31mTypeError\u001b[0m                                 Traceback (most recent call last)",
      "\u001b[1;32m/u/s/szanin/ZaninStefanoSmithers/smithers/ml/pytorch_randomized_svd.ipynb Cella 9\u001b[0m in \u001b[0;36m<cell line: 2>\u001b[0;34m()\u001b[0m\n\u001b[1;32m      <a href='vscode-notebook-cell://ssh-remote%2Bagnesi.maths.sissa.it/u/s/szanin/ZaninStefanoSmithers/smithers/ml/pytorch_randomized_svd.ipynb#X11sdnNjb2RlLXJlbW90ZQ%3D%3D?line=0'>1</a>\u001b[0m A \u001b[39m=\u001b[39m torch\u001b[39m.\u001b[39mtensor(np\u001b[39m.\u001b[39mrandom\u001b[39m.\u001b[39muniform(\u001b[39m-\u001b[39m\u001b[39m40\u001b[39m,\u001b[39m40\u001b[39m,[\u001b[39m10\u001b[39m,\u001b[39m100\u001b[39m]))\n\u001b[0;32m----> <a href='vscode-notebook-cell://ssh-remote%2Bagnesi.maths.sissa.it/u/s/szanin/ZaninStefanoSmithers/smithers/ml/pytorch_randomized_svd.ipynb#X11sdnNjb2RlLXJlbW90ZQ%3D%3D?line=1'>2</a>\u001b[0m randomized_svd(A, \u001b[39m5\u001b[39;49m)\n",
      "\u001b[1;32m/u/s/szanin/ZaninStefanoSmithers/smithers/ml/pytorch_randomized_svd.ipynb Cella 9\u001b[0m in \u001b[0;36mrandomized_svd\u001b[0;34m(M, n_components, n_oversamples, n_iter)\u001b[0m\n\u001b[1;32m      <a href='vscode-notebook-cell://ssh-remote%2Bagnesi.maths.sissa.it/u/s/szanin/ZaninStefanoSmithers/smithers/ml/pytorch_randomized_svd.ipynb#X11sdnNjb2RlLXJlbW90ZQ%3D%3D?line=1'>2</a>\u001b[0m n_random \u001b[39m=\u001b[39m n_components \u001b[39m+\u001b[39m n_oversamples\n\u001b[1;32m      <a href='vscode-notebook-cell://ssh-remote%2Bagnesi.maths.sissa.it/u/s/szanin/ZaninStefanoSmithers/smithers/ml/pytorch_randomized_svd.ipynb#X11sdnNjb2RlLXJlbW90ZQ%3D%3D?line=3'>4</a>\u001b[0m M \u001b[39m=\u001b[39m torch\u001b[39m.\u001b[39mtensor(M)\u001b[39m#.to(device)\u001b[39;00m\n\u001b[0;32m----> <a href='vscode-notebook-cell://ssh-remote%2Bagnesi.maths.sissa.it/u/s/szanin/ZaninStefanoSmithers/smithers/ml/pytorch_randomized_svd.ipynb#X11sdnNjb2RlLXJlbW90ZQ%3D%3D?line=4'>5</a>\u001b[0m Q \u001b[39m=\u001b[39m torch\u001b[39m.\u001b[39mtensor(randomized_range_finder(M, n_random, n_iter))\u001b[39m#.to(device)\u001b[39;00m\n\u001b[1;32m      <a href='vscode-notebook-cell://ssh-remote%2Bagnesi.maths.sissa.it/u/s/szanin/ZaninStefanoSmithers/smithers/ml/pytorch_randomized_svd.ipynb#X11sdnNjb2RlLXJlbW90ZQ%3D%3D?line=5'>6</a>\u001b[0m \u001b[39m# project M to the (k + p) dimensional space using the basis vectors\u001b[39;00m\n\u001b[1;32m      <a href='vscode-notebook-cell://ssh-remote%2Bagnesi.maths.sissa.it/u/s/szanin/ZaninStefanoSmithers/smithers/ml/pytorch_randomized_svd.ipynb#X11sdnNjb2RlLXJlbW90ZQ%3D%3D?line=6'>7</a>\u001b[0m M \u001b[39m=\u001b[39m torch\u001b[39m.\u001b[39mtensor(M)\u001b[39m#.to(device)\u001b[39;00m\n",
      "\u001b[1;32m/u/s/szanin/ZaninStefanoSmithers/smithers/ml/pytorch_randomized_svd.ipynb Cella 9\u001b[0m in \u001b[0;36mrandomized_range_finder\u001b[0;34m(A, size, n_iter)\u001b[0m\n\u001b[1;32m     <a href='vscode-notebook-cell://ssh-remote%2Bagnesi.maths.sissa.it/u/s/szanin/ZaninStefanoSmithers/smithers/ml/pytorch_randomized_svd.ipynb#X11sdnNjb2RlLXJlbW90ZQ%3D%3D?line=9'>10</a>\u001b[0m     P, L, _ \u001b[39m=\u001b[39m torch\u001b[39m.\u001b[39mlinalg\u001b[39m.\u001b[39mlu(A\u001b[39m.\u001b[39mT \u001b[39m@\u001b[39m Q)\n\u001b[1;32m     <a href='vscode-notebook-cell://ssh-remote%2Bagnesi.maths.sissa.it/u/s/szanin/ZaninStefanoSmithers/smithers/ml/pytorch_randomized_svd.ipynb#X11sdnNjb2RlLXJlbW90ZQ%3D%3D?line=10'>11</a>\u001b[0m     Q \u001b[39m=\u001b[39m P \u001b[39m@\u001b[39m L\n\u001b[0;32m---> <a href='vscode-notebook-cell://ssh-remote%2Bagnesi.maths.sissa.it/u/s/szanin/ZaninStefanoSmithers/smithers/ml/pytorch_randomized_svd.ipynb#X11sdnNjb2RlLXJlbW90ZQ%3D%3D?line=12'>13</a>\u001b[0m Q, _ \u001b[39m=\u001b[39m linalg\u001b[39m.\u001b[39;49mqr(A \u001b[39m@\u001b[39;49m Q, mode\u001b[39m=\u001b[39;49m\u001b[39m'\u001b[39;49m\u001b[39meconomic\u001b[39;49m\u001b[39m'\u001b[39;49m)\n\u001b[1;32m     <a href='vscode-notebook-cell://ssh-remote%2Bagnesi.maths.sissa.it/u/s/szanin/ZaninStefanoSmithers/smithers/ml/pytorch_randomized_svd.ipynb#X11sdnNjb2RlLXJlbW90ZQ%3D%3D?line=13'>14</a>\u001b[0m \u001b[39mreturn\u001b[39;00m Q\n",
      "File \u001b[0;32m~/miniconda3/envs/reducedcnn/lib/python3.10/site-packages/scipy/linalg/decomp_qr.py:127\u001b[0m, in \u001b[0;36mqr\u001b[0;34m(a, overwrite_a, lwork, mode, pivoting, check_finite)\u001b[0m\n\u001b[1;32m    123\u001b[0m     \u001b[39mraise\u001b[39;00m \u001b[39mValueError\u001b[39;00m(\u001b[39m\"\u001b[39m\u001b[39mMode argument should be one of [\u001b[39m\u001b[39m'\u001b[39m\u001b[39mfull\u001b[39m\u001b[39m'\u001b[39m\u001b[39m, \u001b[39m\u001b[39m'\u001b[39m\u001b[39mr\u001b[39m\u001b[39m'\u001b[39m\u001b[39m,\u001b[39m\u001b[39m\"\u001b[39m\n\u001b[1;32m    124\u001b[0m                      \u001b[39m\"\u001b[39m\u001b[39m'\u001b[39m\u001b[39meconomic\u001b[39m\u001b[39m'\u001b[39m\u001b[39m, \u001b[39m\u001b[39m'\u001b[39m\u001b[39mraw\u001b[39m\u001b[39m'\u001b[39m\u001b[39m]\u001b[39m\u001b[39m\"\u001b[39m)\n\u001b[1;32m    126\u001b[0m \u001b[39mif\u001b[39;00m check_finite:\n\u001b[0;32m--> 127\u001b[0m     a1 \u001b[39m=\u001b[39m numpy\u001b[39m.\u001b[39;49masarray_chkfinite(a)\n\u001b[1;32m    128\u001b[0m \u001b[39melse\u001b[39;00m:\n\u001b[1;32m    129\u001b[0m     a1 \u001b[39m=\u001b[39m numpy\u001b[39m.\u001b[39masarray(a)\n",
      "File \u001b[0;32m~/miniconda3/envs/reducedcnn/lib/python3.10/site-packages/numpy/lib/function_base.py:601\u001b[0m, in \u001b[0;36masarray_chkfinite\u001b[0;34m(a, dtype, order)\u001b[0m\n\u001b[1;32m    537\u001b[0m \u001b[39m@set_module\u001b[39m(\u001b[39m'\u001b[39m\u001b[39mnumpy\u001b[39m\u001b[39m'\u001b[39m)\n\u001b[1;32m    538\u001b[0m \u001b[39mdef\u001b[39;00m \u001b[39masarray_chkfinite\u001b[39m(a, dtype\u001b[39m=\u001b[39m\u001b[39mNone\u001b[39;00m, order\u001b[39m=\u001b[39m\u001b[39mNone\u001b[39;00m):\n\u001b[1;32m    539\u001b[0m     \u001b[39m\"\"\"Convert the input to an array, checking for NaNs or Infs.\u001b[39;00m\n\u001b[1;32m    540\u001b[0m \n\u001b[1;32m    541\u001b[0m \u001b[39m    Parameters\u001b[39;00m\n\u001b[0;32m   (...)\u001b[0m\n\u001b[1;32m    599\u001b[0m \n\u001b[1;32m    600\u001b[0m \u001b[39m    \"\"\"\u001b[39;00m\n\u001b[0;32m--> 601\u001b[0m     a \u001b[39m=\u001b[39m asarray(a, dtype\u001b[39m=\u001b[39;49mdtype, order\u001b[39m=\u001b[39;49morder)\n\u001b[1;32m    602\u001b[0m     \u001b[39mif\u001b[39;00m a\u001b[39m.\u001b[39mdtype\u001b[39m.\u001b[39mchar \u001b[39min\u001b[39;00m typecodes[\u001b[39m'\u001b[39m\u001b[39mAllFloat\u001b[39m\u001b[39m'\u001b[39m] \u001b[39mand\u001b[39;00m \u001b[39mnot\u001b[39;00m np\u001b[39m.\u001b[39misfinite(a)\u001b[39m.\u001b[39mall():\n\u001b[1;32m    603\u001b[0m         \u001b[39mraise\u001b[39;00m \u001b[39mValueError\u001b[39;00m(\n\u001b[1;32m    604\u001b[0m             \u001b[39m\"\u001b[39m\u001b[39marray must not contain infs or NaNs\u001b[39m\u001b[39m\"\u001b[39m)\n",
      "File \u001b[0;32m~/miniconda3/envs/reducedcnn/lib/python3.10/site-packages/torch/_tensor.py:757\u001b[0m, in \u001b[0;36mTensor.__array__\u001b[0;34m(self, dtype)\u001b[0m\n\u001b[1;32m    755\u001b[0m     \u001b[39mreturn\u001b[39;00m handle_torch_function(Tensor\u001b[39m.\u001b[39m__array__, (\u001b[39mself\u001b[39m,), \u001b[39mself\u001b[39m, dtype\u001b[39m=\u001b[39mdtype)\n\u001b[1;32m    756\u001b[0m \u001b[39mif\u001b[39;00m dtype \u001b[39mis\u001b[39;00m \u001b[39mNone\u001b[39;00m:\n\u001b[0;32m--> 757\u001b[0m     \u001b[39mreturn\u001b[39;00m \u001b[39mself\u001b[39;49m\u001b[39m.\u001b[39;49mnumpy()\n\u001b[1;32m    758\u001b[0m \u001b[39melse\u001b[39;00m:\n\u001b[1;32m    759\u001b[0m     \u001b[39mreturn\u001b[39;00m \u001b[39mself\u001b[39m\u001b[39m.\u001b[39mnumpy()\u001b[39m.\u001b[39mastype(dtype, copy\u001b[39m=\u001b[39m\u001b[39mFalse\u001b[39;00m)\n",
      "\u001b[0;31mTypeError\u001b[0m: can't convert cuda:0 device type tensor to numpy. Use Tensor.cpu() to copy the tensor to host memory first."
     ]
    }
   ],
   "source": [
    "A = torch.tensor(np.random.uniform(-40,40,[10,100]))\n",
    "randomized_svd(A, 5)"
   ]
  },
  {
   "cell_type": "code",
   "execution_count": null,
   "metadata": {},
   "outputs": [],
   "source": [
    "A=torch.tensor(A).to(device)"
   ]
  },
  {
   "cell_type": "code",
   "execution_count": null,
   "metadata": {},
   "outputs": [],
   "source": [
    "A = np.random.uniform(-40,40,[10,100]) \n",
    "simple_randomized_svd(A)"
   ]
  },
  {
   "cell_type": "code",
   "execution_count": null,
   "metadata": {},
   "outputs": [],
   "source": [
    "A = np.random.uniform(-40,40,[10,100])\n",
    "simple_randomized_torch_svd(A)"
   ]
  },
  {
   "cell_type": "code",
   "execution_count": 7,
   "metadata": {},
   "outputs": [],
   "source": [
    "A = np.random.uniform(-1,1,[200 * 200,50000])"
   ]
  },
  {
   "cell_type": "code",
   "execution_count": null,
   "metadata": {},
   "outputs": [],
   "source": [
    "P,L,U2 = linalg.lu(A)"
   ]
  },
  {
   "cell_type": "code",
   "execution_count": null,
   "metadata": {},
   "outputs": [],
   "source": [
    "P@L"
   ]
  },
  {
   "cell_type": "code",
   "execution_count": null,
   "metadata": {},
   "outputs": [],
   "source": [
    "Lp, U = linalg.lu(A,permute_l=True)"
   ]
  },
  {
   "cell_type": "code",
   "execution_count": null,
   "metadata": {},
   "outputs": [],
   "source": [
    "print(Lp)"
   ]
  },
  {
   "cell_type": "code",
   "execution_count": 8,
   "metadata": {},
   "outputs": [
    {
     "ename": "TypeError",
     "evalue": "_ArrayMemoryError.__init__() missing 1 required positional argument: 'dtype'",
     "output_type": "error",
     "traceback": [
      "\u001b[0;31m---------------------------------------------------------------------------\u001b[0m",
      "\u001b[0;31mMemoryError\u001b[0m                               Traceback (most recent call last)",
      "\u001b[0;31mMemoryError\u001b[0m: Unable to allocate 14.9 GiB for an array with shape (40000, 50000) and data type float64",
      "\nThe above exception was the direct cause of the following exception:\n",
      "\u001b[0;31mTypeError\u001b[0m                                 Traceback (most recent call last)",
      "\u001b[1;32m/u/s/szanin/ZaninStefanoSmithers/smithers/ml/pytorch_randomized_svd.ipynb Cella 18\u001b[0m in \u001b[0;36m<cell line: 1>\u001b[0;34m()\u001b[0m\n\u001b[0;32m----> <a href='vscode-notebook-cell://ssh-remote%2Blovelace/u/s/szanin/ZaninStefanoSmithers/smithers/ml/pytorch_randomized_svd.ipynb#X21sdnNjb2RlLXJlbW90ZQ%3D%3D?line=0'>1</a>\u001b[0m linalg\u001b[39m.\u001b[39;49mqr(A)\n",
      "File \u001b[0;32m~/miniconda3/envs/reducedcnn/lib/python3.10/site-packages/scipy/linalg/decomp_qr.py:141\u001b[0m, in \u001b[0;36mqr\u001b[0;34m(a, overwrite_a, lwork, mode, pivoting, check_finite)\u001b[0m\n\u001b[1;32m    139\u001b[0m \u001b[39melse\u001b[39;00m:\n\u001b[1;32m    140\u001b[0m     geqrf, \u001b[39m=\u001b[39m get_lapack_funcs((\u001b[39m'\u001b[39m\u001b[39mgeqrf\u001b[39m\u001b[39m'\u001b[39m,), (a1,))\n\u001b[0;32m--> 141\u001b[0m     qr, tau \u001b[39m=\u001b[39m safecall(geqrf, \u001b[39m\"\u001b[39;49m\u001b[39mgeqrf\u001b[39;49m\u001b[39m\"\u001b[39;49m, a1, lwork\u001b[39m=\u001b[39;49mlwork,\n\u001b[1;32m    142\u001b[0m                        overwrite_a\u001b[39m=\u001b[39;49moverwrite_a)\n\u001b[1;32m    144\u001b[0m \u001b[39mif\u001b[39;00m mode \u001b[39mnot\u001b[39;00m \u001b[39min\u001b[39;00m [\u001b[39m'\u001b[39m\u001b[39meconomic\u001b[39m\u001b[39m'\u001b[39m, \u001b[39m'\u001b[39m\u001b[39mraw\u001b[39m\u001b[39m'\u001b[39m] \u001b[39mor\u001b[39;00m M \u001b[39m<\u001b[39m N:\n\u001b[1;32m    145\u001b[0m     R \u001b[39m=\u001b[39m numpy\u001b[39m.\u001b[39mtriu(qr)\n",
      "File \u001b[0;32m~/miniconda3/envs/reducedcnn/lib/python3.10/site-packages/scipy/linalg/decomp_qr.py:19\u001b[0m, in \u001b[0;36msafecall\u001b[0;34m(f, name, *args, **kwargs)\u001b[0m\n\u001b[1;32m     17\u001b[0m     ret \u001b[39m=\u001b[39m f(\u001b[39m*\u001b[39margs, \u001b[39m*\u001b[39m\u001b[39m*\u001b[39mkwargs)\n\u001b[1;32m     18\u001b[0m     kwargs[\u001b[39m'\u001b[39m\u001b[39mlwork\u001b[39m\u001b[39m'\u001b[39m] \u001b[39m=\u001b[39m ret[\u001b[39m-\u001b[39m\u001b[39m2\u001b[39m][\u001b[39m0\u001b[39m]\u001b[39m.\u001b[39mreal\u001b[39m.\u001b[39mastype(numpy\u001b[39m.\u001b[39mint_)\n\u001b[0;32m---> 19\u001b[0m ret \u001b[39m=\u001b[39m f(\u001b[39m*\u001b[39;49margs, \u001b[39m*\u001b[39;49m\u001b[39m*\u001b[39;49mkwargs)\n\u001b[1;32m     20\u001b[0m \u001b[39mif\u001b[39;00m ret[\u001b[39m-\u001b[39m\u001b[39m1\u001b[39m] \u001b[39m<\u001b[39m \u001b[39m0\u001b[39m:\n\u001b[1;32m     21\u001b[0m     \u001b[39mraise\u001b[39;00m \u001b[39mValueError\u001b[39;00m(\u001b[39m\"\u001b[39m\u001b[39millegal value in \u001b[39m\u001b[39m%d\u001b[39;00m\u001b[39mth argument of internal \u001b[39m\u001b[39m%s\u001b[39;00m\u001b[39m\"\u001b[39m\n\u001b[1;32m     22\u001b[0m                      \u001b[39m%\u001b[39m (\u001b[39m-\u001b[39mret[\u001b[39m-\u001b[39m\u001b[39m1\u001b[39m], name))\n",
      "\u001b[0;31mTypeError\u001b[0m: _ArrayMemoryError.__init__() missing 1 required positional argument: 'dtype'"
     ]
    },
    {
     "ename": "",
     "evalue": "",
     "output_type": "error",
     "traceback": [
      "Si è verificato un arresto anomalo del kernel durante l'esecuzione del codice nella cella attiva o in una cella precedente. Esaminare il codice nelle celle per identificare una possibile causa dell'errore. Per altre informazioni, fare clic su <a href='https://aka.ms/vscodeJupyterKernelCrash'>here</a>. Per altri dettagli, vedere Jupyter <a href='command:jupyter.viewOutput'>log</a>."
     ]
    }
   ],
   "source": [
    "linalg.qr(A)#,mode='economic')"
   ]
  },
  {
   "cell_type": "code",
   "execution_count": null,
   "metadata": {},
   "outputs": [],
   "source": [
    "linalg.qr(A,mode='economic')"
   ]
  },
  {
   "cell_type": "code",
   "execution_count": null,
   "metadata": {},
   "outputs": [],
   "source": [
    "Atensor = torch.tensor(A).to(device)"
   ]
  },
  {
   "cell_type": "code",
   "execution_count": null,
   "metadata": {},
   "outputs": [],
   "source": [
    "Atensor.shape"
   ]
  },
  {
   "cell_type": "code",
   "execution_count": null,
   "metadata": {},
   "outputs": [],
   "source": [
    "torch.linalg.qr(Atensor)"
   ]
  },
  {
   "cell_type": "code",
   "execution_count": null,
   "metadata": {},
   "outputs": [],
   "source": []
  }
 ],
 "metadata": {
  "kernelspec": {
   "display_name": "Python 3.10.4 ('reducedcnn')",
   "language": "python",
   "name": "python3"
  },
  "language_info": {
   "codemirror_mode": {
    "name": "ipython",
    "version": 3
   },
   "file_extension": ".py",
   "mimetype": "text/x-python",
   "name": "python",
   "nbconvert_exporter": "python",
   "pygments_lexer": "ipython3",
   "version": "3.10.4"
  },
  "vscode": {
   "interpreter": {
    "hash": "8c5bf16c94eb6f9341fa612a12f652937166e39821fa969ec7095b77ab48ffd1"
   }
  }
 },
 "nbformat": 4,
 "nbformat_minor": 2
}
